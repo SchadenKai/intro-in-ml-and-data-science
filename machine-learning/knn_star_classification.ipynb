{
  "cells": [
    {
      "cell_type": "code",
      "execution_count": 15,
      "metadata": {
        "id": "ghgrcoIR7gdh"
      },
      "outputs": [],
      "source": [
        "import numpy as np\n",
        "import matplotlib.pyplot as plt\n",
        "import pandas as pd"
      ]
    },
    {
      "cell_type": "markdown",
      "metadata": {},
      "source": [
        "- Import dataset, which is [star_types dataset](https://www.kaggle.com/datasets/deepu1109/star-dataset?resource=download)\n",
        "- Headernames and index names are not set since it is already given in the dataset\n",
        "- We use `dataset.info()` to check the data types of each column and if there are any missing values"
      ]
    },
    {
      "cell_type": "code",
      "execution_count": 16,
      "metadata": {
        "colab": {
          "base_uri": "https://localhost:8080/",
          "height": 241
        },
        "id": "vsdsLCHPB5hi",
        "outputId": "66cdd0e7-dae7-43b6-c0f4-3e682464fcf9"
      },
      "outputs": [
        {
          "name": "stdout",
          "output_type": "stream",
          "text": [
            "<class 'pandas.core.frame.DataFrame'>\n",
            "RangeIndex: 240 entries, 0 to 239\n",
            "Data columns (total 7 columns):\n",
            " #   Column                  Non-Null Count  Dtype  \n",
            "---  ------                  --------------  -----  \n",
            " 0   Temperature (K)         240 non-null    int64  \n",
            " 1   Luminosity(L/Lo)        240 non-null    float64\n",
            " 2   Radius(R/Ro)            240 non-null    float64\n",
            " 3   Absolute magnitude(Mv)  240 non-null    float64\n",
            " 4   Star type               240 non-null    int64  \n",
            " 5   Star color              240 non-null    object \n",
            " 6   Spectral Class          240 non-null    object \n",
            "dtypes: float64(3), int64(2), object(2)\n",
            "memory usage: 13.2+ KB\n"
          ]
        }
      ],
      "source": [
        "path = '../data/star_classification.csv'\n",
        "\n",
        "dataset = pd.read_csv(path)\n",
        "dataset.info()"
      ]
    },
    {
      "cell_type": "markdown",
      "metadata": {},
      "source": [
        "- We then get the values of the dataset and store it in `X` and `y` variables\n",
        "- `X` will be the features of the dataset, which are the columns `Temperature`, `Luminosity`, and `Absolute Magnitude` (which is based on the Hertzsprung-Russell Diagram. The missing feature considered is the `Color` which must be converted to numerical values depending on the categorical values)\n",
        "- `y` will be the classification of the dataset, which is the column `Star type`\n",
        "- The `Star type` is divided into 6 classifications:\n",
        "  - 0 = Red dwarf\n",
        "  - 1 = Brown dwarf\n",
        "  - 2 = White dwarf\n",
        "  - 3 = Main sequence\n",
        "  - 4 = Super Giants\n",
        "  - 5 = Hyper Giants"
      ]
    },
    {
      "cell_type": "code",
      "execution_count": 17,
      "metadata": {
        "colab": {
          "base_uri": "https://localhost:8080/"
        },
        "id": "1rkAUW_QCimB",
        "outputId": "ecbf981a-71c9-41c7-95a8-06ddf1fe8a38"
      },
      "outputs": [],
      "source": [
        "X = dataset.iloc[1:, [0,1,3]].values\n",
        "y = dataset.iloc[1:, -3].values"
      ]
    },
    {
      "cell_type": "markdown",
      "metadata": {},
      "source": [
        "- we now then split the whole data set into training data set and test data set using `train_test_split`. We use 70% as a training data and 30% (test_size = 0.30) as our test data. \n",
        "- We then use `StandardScaler` to scale the data set to a standard normal distribution. This is to avoid the model to be biased to the features with higher values."
      ]
    },
    {
      "cell_type": "code",
      "execution_count": 18,
      "metadata": {
        "id": "owHXfxp3DKaA"
      },
      "outputs": [],
      "source": [
        "from sklearn.model_selection import train_test_split\n",
        "X_train, X_test, y_train, y_test = train_test_split(X, y, test_size\n",
        "= 0.20)\n",
        "\n",
        "from sklearn.preprocessing import StandardScaler\n",
        "\n",
        "scaler = StandardScaler()\n",
        "scaler.fit(X_train)\n",
        "X_train = scaler.transform(X_train)\n",
        "X_test = scaler.transform(X_test)"
      ]
    },
    {
      "cell_type": "markdown",
      "metadata": {},
      "source": [
        "- We then use `KNeighborsClassifier` to train the model. We use `n_neighbors = 5` as our parameter. This means that the model will use the 5 nearest neighbors to classify the data. We then use `model.score` to check the accuracy of the model. "
      ]
    },
    {
      "cell_type": "code",
      "execution_count": 19,
      "metadata": {
        "colab": {
          "base_uri": "https://localhost:8080/",
          "height": 74
        },
        "id": "Z5tyDjYKIhRo",
        "outputId": "48477613-826a-4a72-abba-380275b2398b"
      },
      "outputs": [
        {
          "data": {
            "text/html": [
              "<style>#sk-container-id-2 {color: black;}#sk-container-id-2 pre{padding: 0;}#sk-container-id-2 div.sk-toggleable {background-color: white;}#sk-container-id-2 label.sk-toggleable__label {cursor: pointer;display: block;width: 100%;margin-bottom: 0;padding: 0.3em;box-sizing: border-box;text-align: center;}#sk-container-id-2 label.sk-toggleable__label-arrow:before {content: \"▸\";float: left;margin-right: 0.25em;color: #696969;}#sk-container-id-2 label.sk-toggleable__label-arrow:hover:before {color: black;}#sk-container-id-2 div.sk-estimator:hover label.sk-toggleable__label-arrow:before {color: black;}#sk-container-id-2 div.sk-toggleable__content {max-height: 0;max-width: 0;overflow: hidden;text-align: left;background-color: #f0f8ff;}#sk-container-id-2 div.sk-toggleable__content pre {margin: 0.2em;color: black;border-radius: 0.25em;background-color: #f0f8ff;}#sk-container-id-2 input.sk-toggleable__control:checked~div.sk-toggleable__content {max-height: 200px;max-width: 100%;overflow: auto;}#sk-container-id-2 input.sk-toggleable__control:checked~label.sk-toggleable__label-arrow:before {content: \"▾\";}#sk-container-id-2 div.sk-estimator input.sk-toggleable__control:checked~label.sk-toggleable__label {background-color: #d4ebff;}#sk-container-id-2 div.sk-label input.sk-toggleable__control:checked~label.sk-toggleable__label {background-color: #d4ebff;}#sk-container-id-2 input.sk-hidden--visually {border: 0;clip: rect(1px 1px 1px 1px);clip: rect(1px, 1px, 1px, 1px);height: 1px;margin: -1px;overflow: hidden;padding: 0;position: absolute;width: 1px;}#sk-container-id-2 div.sk-estimator {font-family: monospace;background-color: #f0f8ff;border: 1px dotted black;border-radius: 0.25em;box-sizing: border-box;margin-bottom: 0.5em;}#sk-container-id-2 div.sk-estimator:hover {background-color: #d4ebff;}#sk-container-id-2 div.sk-parallel-item::after {content: \"\";width: 100%;border-bottom: 1px solid gray;flex-grow: 1;}#sk-container-id-2 div.sk-label:hover label.sk-toggleable__label {background-color: #d4ebff;}#sk-container-id-2 div.sk-serial::before {content: \"\";position: absolute;border-left: 1px solid gray;box-sizing: border-box;top: 0;bottom: 0;left: 50%;z-index: 0;}#sk-container-id-2 div.sk-serial {display: flex;flex-direction: column;align-items: center;background-color: white;padding-right: 0.2em;padding-left: 0.2em;position: relative;}#sk-container-id-2 div.sk-item {position: relative;z-index: 1;}#sk-container-id-2 div.sk-parallel {display: flex;align-items: stretch;justify-content: center;background-color: white;position: relative;}#sk-container-id-2 div.sk-item::before, #sk-container-id-2 div.sk-parallel-item::before {content: \"\";position: absolute;border-left: 1px solid gray;box-sizing: border-box;top: 0;bottom: 0;left: 50%;z-index: -1;}#sk-container-id-2 div.sk-parallel-item {display: flex;flex-direction: column;z-index: 1;position: relative;background-color: white;}#sk-container-id-2 div.sk-parallel-item:first-child::after {align-self: flex-end;width: 50%;}#sk-container-id-2 div.sk-parallel-item:last-child::after {align-self: flex-start;width: 50%;}#sk-container-id-2 div.sk-parallel-item:only-child::after {width: 0;}#sk-container-id-2 div.sk-dashed-wrapped {border: 1px dashed gray;margin: 0 0.4em 0.5em 0.4em;box-sizing: border-box;padding-bottom: 0.4em;background-color: white;}#sk-container-id-2 div.sk-label label {font-family: monospace;font-weight: bold;display: inline-block;line-height: 1.2em;}#sk-container-id-2 div.sk-label-container {text-align: center;}#sk-container-id-2 div.sk-container {/* jupyter's `normalize.less` sets `[hidden] { display: none; }` but bootstrap.min.css set `[hidden] { display: none !important; }` so we also need the `!important` here to be able to override the default hidden behavior on the sphinx rendered scikit-learn.org. See: https://github.com/scikit-learn/scikit-learn/issues/21755 */display: inline-block !important;position: relative;}#sk-container-id-2 div.sk-text-repr-fallback {display: none;}</style><div id=\"sk-container-id-2\" class=\"sk-top-container\"><div class=\"sk-text-repr-fallback\"><pre>KNeighborsClassifier()</pre><b>In a Jupyter environment, please rerun this cell to show the HTML representation or trust the notebook. <br />On GitHub, the HTML representation is unable to render, please try loading this page with nbviewer.org.</b></div><div class=\"sk-container\" hidden><div class=\"sk-item\"><div class=\"sk-estimator sk-toggleable\"><input class=\"sk-toggleable__control sk-hidden--visually\" id=\"sk-estimator-id-2\" type=\"checkbox\" checked><label for=\"sk-estimator-id-2\" class=\"sk-toggleable__label sk-toggleable__label-arrow\">KNeighborsClassifier</label><div class=\"sk-toggleable__content\"><pre>KNeighborsClassifier()</pre></div></div></div></div></div>"
            ],
            "text/plain": [
              "KNeighborsClassifier()"
            ]
          },
          "execution_count": 19,
          "metadata": {},
          "output_type": "execute_result"
        }
      ],
      "source": [
        "from sklearn.neighbors import KNeighborsClassifier\n",
        "classifier = KNeighborsClassifier(n_neighbors = 5)\n",
        "classifier.fit(X_train, y_train)"
      ]
    },
    {
      "cell_type": "markdown",
      "metadata": {},
      "source": [
        "- We then use the `.predict()` to utilize trained model for prediction. We feed the `x values` as an argument for the function \n",
        "- We can either use the test dataset and train dataset a an argument for the prediction. \n",
        "- Naming convention used for the variable name must include the `y_pred` + `(type of x_value that is feeded, either test or train)` + `knn` + `(number of neighbors used)`"
      ]
    },
    {
      "cell_type": "code",
      "execution_count": 20,
      "metadata": {
        "id": "P1liaCEJIlpy"
      },
      "outputs": [],
      "source": [
        "y_pred_train_5 = classifier.predict(X_train)"
      ]
    },
    {
      "cell_type": "code",
      "execution_count": 40,
      "metadata": {
        "colab": {
          "base_uri": "https://localhost:8080/"
        },
        "id": "chK0hx5oIn6T",
        "outputId": "c7a57ef8-6dcd-44dd-c931-243f2a69d7b0"
      },
      "outputs": [
        {
          "name": "stdout",
          "output_type": "stream",
          "text": [
            "Confusion Matrix:\n",
            "[[31  0  0  0  0  0]\n",
            " [ 0 30  0  0  0  0]\n",
            " [ 0  0 31  0  0  0]\n",
            " [ 0  0  0 31  0  0]\n",
            " [ 0  0  0  2 26  5]\n",
            " [ 0  0  0  0  6 29]]\n",
            "Classification Report:\n",
            "              precision    recall  f1-score   support\n",
            "\n",
            "           0       1.00      1.00      1.00        31\n",
            "           1       1.00      1.00      1.00        30\n",
            "           2       1.00      1.00      1.00        31\n",
            "           3       0.94      1.00      0.97        31\n",
            "           4       0.81      0.79      0.80        33\n",
            "           5       0.85      0.83      0.84        35\n",
            "\n",
            "    accuracy                           0.93       191\n",
            "   macro avg       0.93      0.94      0.93       191\n",
            "weighted avg       0.93      0.93      0.93       191\n",
            "\n",
            "Accuracy: 0.9319371727748691\n"
          ]
        }
      ],
      "source": [
        "from sklearn.metrics import classification_report,confusion_matrix, accuracy_score\n",
        "y_pred_train_5_confusionMatrix = confusion_matrix(y_train, y_pred_train_5)\n",
        "print(\"Confusion Matrix:\")\n",
        "print(y_pred_train_5_confusionMatrix)\n",
        "result1 = classification_report(y_train, y_pred_train_5)\n",
        "print(\"Classification Report:\",)\n",
        "print (result1)\n",
        "y_pred_train_5_acc = accuracy_score(y_train,y_pred_train_5)\n",
        "print(\"Accuracy:\",y_pred_train_5_acc)"
      ]
    },
    {
      "cell_type": "code",
      "execution_count": 47,
      "metadata": {},
      "outputs": [
        {
          "data": {
            "text/html": [
              "<div>\n",
              "<style scoped>\n",
              "    .dataframe tbody tr th:only-of-type {\n",
              "        vertical-align: middle;\n",
              "    }\n",
              "\n",
              "    .dataframe tbody tr th {\n",
              "        vertical-align: top;\n",
              "    }\n",
              "\n",
              "    .dataframe thead th {\n",
              "        text-align: right;\n",
              "    }\n",
              "</style>\n",
              "<table border=\"1\" class=\"dataframe\">\n",
              "  <thead>\n",
              "    <tr style=\"text-align: right;\">\n",
              "      <th></th>\n",
              "      <th>Accuracy Score</th>\n",
              "    </tr>\n",
              "  </thead>\n",
              "  <tbody>\n",
              "    <tr>\n",
              "      <th>KNN 1 (Train)</th>\n",
              "      <td>1.000000</td>\n",
              "    </tr>\n",
              "    <tr>\n",
              "      <th>KNN 3 (Train)</th>\n",
              "      <td>0.947644</td>\n",
              "    </tr>\n",
              "    <tr>\n",
              "      <th>KNN 5 (Train)</th>\n",
              "      <td>0.931937</td>\n",
              "    </tr>\n",
              "    <tr>\n",
              "      <th>KNN 7 (Train)</th>\n",
              "      <td>0.900524</td>\n",
              "    </tr>\n",
              "  </tbody>\n",
              "</table>\n",
              "</div>"
            ],
            "text/plain": [
              "               Accuracy Score\n",
              "KNN 1 (Train)        1.000000\n",
              "KNN 3 (Train)        0.947644\n",
              "KNN 5 (Train)        0.931937\n",
              "KNN 7 (Train)        0.900524"
            ]
          },
          "execution_count": 47,
          "metadata": {},
          "output_type": "execute_result"
        }
      ],
      "source": [
        "classifier_3 = KNeighborsClassifier(n_neighbors=3)\n",
        "classifier_3.fit(X_train, y_train)\n",
        "y_pred_train_3 = classifier_3.predict(X_train)\n",
        "y_pred_train_3_acc = accuracy_score(y_train, y_pred_train_3)\n",
        "y_pred_train_3_confusionMatrix = confusion_matrix(y_train, y_pred_train_3)\n",
        "y_pred_train_3_classificationReport = classification_report(y_train, y_pred_train_3)\n",
        "\n",
        "classifier_7 = KNeighborsClassifier(n_neighbors=7)\n",
        "classifier_7.fit(X_train, y_train)\n",
        "y_pred_train_7 = classifier_7.predict(X_train)\n",
        "y_pred_train_7_acc = accuracy_score(y_train, y_pred_train_7)\n",
        "y_pred_train_7_confusionMatrix = confusion_matrix(y_train, y_pred_train_7)\n",
        "y_pred_train_7_classificationReport = classification_report(y_train, y_pred_train_7)\n",
        "\n",
        "classifier_1 = KNeighborsClassifier(n_neighbors=1)\n",
        "classifier_1.fit(X_train, y_train)\n",
        "y_pred_train_1 = classifier_1.predict(X_train)\n",
        "y_pred_train_1_acc = accuracy_score(y_train, y_pred_train_1)\n",
        "y_pred_train_1_confusionMatrix = confusion_matrix(y_train, y_pred_train_1)\n",
        "y_pred_train_1_classificationReport = classification_report(y_train, y_pred_train_1)\n",
        "\n",
        "dict = {\n",
        "    \"KNN 1 (Train)\" : [y_pred_train_1_acc],\n",
        "    \"KNN 3 (Train)\" : [y_pred_train_3_acc],\n",
        "    \"KNN 5 (Train)\" : [y_pred_train_5_acc],\n",
        "    \"KNN 7 (Train)\" : [y_pred_train_7_acc]\n",
        "}\n",
        "accuracy_table = pd.DataFrame(dict).transpose()\n",
        "accuracy_table.columns = [\"Accuracy Score\"]\n",
        "accuracy_table"
      ]
    }
  ],
  "metadata": {
    "colab": {
      "provenance": []
    },
    "kernelspec": {
      "display_name": "Python 3",
      "name": "python3"
    },
    "language_info": {
      "codemirror_mode": {
        "name": "ipython",
        "version": 3
      },
      "file_extension": ".py",
      "mimetype": "text/x-python",
      "name": "python",
      "nbconvert_exporter": "python",
      "pygments_lexer": "ipython3",
      "version": "3.10.7"
    }
  },
  "nbformat": 4,
  "nbformat_minor": 0
}
